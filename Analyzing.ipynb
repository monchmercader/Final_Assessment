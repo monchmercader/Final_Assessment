{
 "cells": [
  {
   "cell_type": "markdown",
   "metadata": {},
   "source": [
    "# Data Analytics with Python Course - Final Assessment\n",
    "## Data Analysis\n",
    "\n",
    "submitted by: Ramon (Monch) Mercader\n",
    "\n",
    "submitted to: Ramon Perez / Coder Academy - ramon.perez@coderacademy.edu.au\n",
    "\n",
    "Notebook 2 of 2\n",
    "\n",
    "Please use README.md file for project background and context for this file. "
   ]
  },
  {
   "cell_type": "code",
   "execution_count": null,
   "metadata": {},
   "outputs": [],
   "source": []
  }
 ],
 "metadata": {
  "kernelspec": {
   "display_name": "Python 3",
   "language": "python",
   "name": "python3"
  },
  "language_info": {
   "codemirror_mode": {
    "name": "ipython",
    "version": 3
   },
   "file_extension": ".py",
   "mimetype": "text/x-python",
   "name": "python",
   "nbconvert_exporter": "python",
   "pygments_lexer": "ipython3",
   "version": "3.8.3"
  }
 },
 "nbformat": 4,
 "nbformat_minor": 4
}
